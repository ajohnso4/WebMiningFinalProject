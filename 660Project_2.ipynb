{
 "cells": [
  {
   "cell_type": "code",
   "execution_count": 1,
   "id": "dbdf66cf",
   "metadata": {},
   "outputs": [],
   "source": [
    "import pandas as pd\n",
    "from sklearn.model_selection import train_test_split\n",
    "from sklearn.feature_extraction.text import CountVectorizer, TfidfVectorizer\n",
    "from sklearn.naive_bayes import MultinomialNB\n",
    "from sklearn.linear_model import LogisticRegression\n",
    "from sklearn.svm import SVC\n",
    "from sklearn.ensemble import RandomForestClassifier\n",
    "from sklearn.model_selection import GridSearchCV\n",
    "from sklearn.metrics import accuracy_score\n",
    "\n",
    "df = pd.read_csv(\"data.csv\")\n",
    "\n"
   ]
  },
  {
   "cell_type": "code",
   "execution_count": 2,
   "id": "93d33a08",
   "metadata": {},
   "outputs": [],
   "source": [
    "X = df['interview_title']\n",
    "y = df['offer_acceptance']\n",
    "\n",
    "X_train, X_test, y_train, y_test = train_test_split(X, y, test_size=0.3, random_state=42)\n",
    "\n"
   ]
  },
  {
   "cell_type": "code",
   "execution_count": 3,
   "id": "6723b96c",
   "metadata": {},
   "outputs": [],
   "source": [
    "def train_model(vectorizer, classifier):\n",
    "    # Vectorize the text data\n",
    "    X_train_vec = vectorizer.fit_transform(X_train)\n",
    "    X_test_vec = vectorizer.transform(X_test)\n",
    "\n",
    "    # Train the model\n",
    "    classifier.fit(X_train_vec, y_train)\n",
    "\n",
    "    # Make predictions on the testing data\n",
    "    y_pred = classifier.predict(X_test_vec)\n",
    "\n",
    "    # Calculate the accuracy score\n",
    "    acc_score = accuracy_score(y_test, y_pred)\n",
    "\n",
    "    return acc_score\n",
    "\n"
   ]
  },
  {
   "cell_type": "code",
   "execution_count": 4,
   "id": "2039a3f8",
   "metadata": {},
   "outputs": [
    {
     "name": "stdout",
     "output_type": "stream",
     "text": [
      "Multinomial Naive Bayes Accuracy: 0.5811138014527845\n"
     ]
    }
   ],
   "source": [
    "# Multinomial Naive Bayes\n",
    "nb = MultinomialNB()\n",
    "nb_params = {'alpha': [0.1, 0.5, 1]}\n",
    "nb_grid = GridSearchCV(nb, nb_params, cv=5)\n",
    "nb_acc_score = train_model(CountVectorizer(), nb_grid)\n",
    "print(\"Multinomial Naive Bayes Accuracy:\", nb_acc_score)\n",
    "\n"
   ]
  },
  {
   "cell_type": "code",
   "execution_count": 5,
   "id": "6ef7028f",
   "metadata": {},
   "outputs": [
    {
     "name": "stdout",
     "output_type": "stream",
     "text": [
      "Logistic Regression Accuracy: 0.5828433068142511\n"
     ]
    }
   ],
   "source": [
    "# Logistic Regression\n",
    "lr = LogisticRegression(max_iter=10000)\n",
    "lr_params = {'C': [0.1, 1, 10]}\n",
    "lr_grid = GridSearchCV(lr, lr_params, cv=5)\n",
    "lr_acc_score = train_model(CountVectorizer(), lr_grid)\n",
    "print(\"Logistic Regression Accuracy:\", lr_acc_score)\n",
    "\n"
   ]
  },
  {
   "cell_type": "code",
   "execution_count": 10,
   "id": "81ce5aa1",
   "metadata": {},
   "outputs": [
    {
     "name": "stdout",
     "output_type": "stream",
     "text": [
      "SVM Accuracy: 0.5873400207540643\n"
     ]
    }
   ],
   "source": [
    "# Support Vector Machines (SVM)\n",
    "svm = SVC()\n",
    "svm_params = {'C': [0.1, 1, 10], 'kernel': ['linear', 'rbf']}\n",
    "svm_grid = GridSearchCV(svm, svm_params, cv=5)\n",
    "svm_acc_score = train_model(TfidfVectorizer(), svm_grid)\n",
    "print(\"SVM Accuracy:\", svm_acc_score)\n",
    "\n"
   ]
  },
  {
   "cell_type": "code",
   "execution_count": 11,
   "id": "f522a023",
   "metadata": {},
   "outputs": [
    {
     "name": "stdout",
     "output_type": "stream",
     "text": [
      "Random Forest Accuracy: 0.5728121757177447\n"
     ]
    }
   ],
   "source": [
    "# Random Forest\n",
    "rf = RandomForestClassifier()\n",
    "rf_params = {'n_estimators': [100, 200, 300]}\n",
    "rf_grid = GridSearchCV(rf, rf_params, cv=5)\n",
    "rf_acc_score = train_model(CountVectorizer(), rf_grid)\n",
    "print(\"Random Forest Accuracy:\", rf_acc_score)\n",
    "\n"
   ]
  },
  {
   "cell_type": "code",
   "execution_count": 12,
   "id": "182afd09",
   "metadata": {},
   "outputs": [
    {
     "data": {
      "text/plain": [
       "SVC(C=10, kernel='linear')"
      ]
     },
     "execution_count": 12,
     "metadata": {},
     "output_type": "execute_result"
    }
   ],
   "source": [
    "# Train the final model\n",
    "final_vectorizer = TfidfVectorizer()\n",
    "final_classifier = SVC(C=10, kernel='linear')\n",
    "X_vec = final_vectorizer.fit_transform(X)\n",
    "final_classifier.fit(X_vec, y)\n",
    "\n"
   ]
  },
  {
   "cell_type": "code",
   "execution_count": 13,
   "id": "a43e1aff",
   "metadata": {},
   "outputs": [
    {
     "name": "stdout",
     "output_type": "stream",
     "text": [
      "['No Offer' 'No Offer']\n"
     ]
    }
   ],
   "source": [
    "# Make predictions on new data\n",
    "new_data = ['I had a great interview and received an offer!', 'Unfortunately, I did not receive an offer after my interview.']\n",
    "new_data_vec = final_vectorizer.transform(new_data)\n",
    "new_data_pred = final_classifier.predict(new_data_vec)\n",
    "print(new_data_pred)"
   ]
  },
  {
   "cell_type": "code",
   "execution_count": null,
   "id": "5b09090e",
   "metadata": {},
   "outputs": [],
   "source": []
  },
  {
   "cell_type": "code",
   "execution_count": null,
   "id": "1353105f",
   "metadata": {},
   "outputs": [],
   "source": []
  },
  {
   "cell_type": "code",
   "execution_count": null,
   "id": "5b156863",
   "metadata": {},
   "outputs": [],
   "source": []
  },
  {
   "cell_type": "code",
   "execution_count": null,
   "id": "b339045d",
   "metadata": {},
   "outputs": [],
   "source": []
  },
  {
   "cell_type": "code",
   "execution_count": null,
   "id": "f56c44a1",
   "metadata": {},
   "outputs": [],
   "source": []
  },
  {
   "cell_type": "code",
   "execution_count": null,
   "id": "5d96d859",
   "metadata": {},
   "outputs": [],
   "source": []
  },
  {
   "cell_type": "code",
   "execution_count": null,
   "id": "b5399123",
   "metadata": {},
   "outputs": [],
   "source": []
  },
  {
   "cell_type": "code",
   "execution_count": null,
   "id": "bead1cda",
   "metadata": {},
   "outputs": [],
   "source": []
  },
  {
   "cell_type": "code",
   "execution_count": null,
   "id": "54ec73b3",
   "metadata": {},
   "outputs": [],
   "source": []
  },
  {
   "cell_type": "code",
   "execution_count": null,
   "id": "d3b4bbed",
   "metadata": {},
   "outputs": [],
   "source": []
  }
 ],
 "metadata": {
  "kernelspec": {
   "display_name": "Python 3 (ipykernel)",
   "language": "python",
   "name": "python3"
  },
  "language_info": {
   "codemirror_mode": {
    "name": "ipython",
    "version": 3
   },
   "file_extension": ".py",
   "mimetype": "text/x-python",
   "name": "python",
   "nbconvert_exporter": "python",
   "pygments_lexer": "ipython3",
   "version": "3.9.7"
  }
 },
 "nbformat": 4,
 "nbformat_minor": 5
}
