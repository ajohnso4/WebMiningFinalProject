{
 "cells": [
  {
   "cell_type": "code",
   "execution_count": 113,
   "metadata": {},
   "outputs": [],
   "source": [
    "from selenium import webdriver\n",
    "from selenium.webdriver.support.ui import WebDriverWait\n",
    "from selenium.webdriver.support import expected_conditions as EC\n",
    "from selenium.webdriver.common.by import By\n",
    "import re, time,csv\n",
    "from selenium.common.exceptions import NoSuchElementException\n",
    "from selenium.webdriver.chrome.service import Service\n",
    "from webdriver_manager.chrome import ChromeDriverManager\n",
    "import json\n",
    "\n",
    "outfile=open('output.json','w')"
   ]
  },
  {
   "cell_type": "code",
   "execution_count": 114,
   "metadata": {},
   "outputs": [],
   "source": [
    "def write_row(results):\n",
    "    res = []\n",
    "    for result in results:\n",
    "        try:\n",
    "            interview_title_box = result.find_element(by=By.CSS_SELECTOR, value='h2.mt-0.mb-xxsm.css-93svrw.el6ke055')\n",
    "            interview_title = interview_title_box.text\n",
    "        except NoSuchElementException as e:\n",
    "            print('Could not extract Interview Title')\n",
    "        \n",
    "        try:\n",
    "            date_box = result.find_element(by=By.CSS_SELECTOR, value='time')\n",
    "            date = date_box.text\n",
    "        except NoSuchElementException as e:\n",
    "            print('Could not extract Interview Title')\n",
    "        \n",
    "        arr = []\n",
    "        try:\n",
    "            arr=result.find_elements(by=By.CSS_SELECTOR,value='span.mb-xxsm')\n",
    "        except:\n",
    "            print(\"Could not get the Offer, Experience and Interview ratings\")\n",
    "        \n",
    "        offer_acceptance = arr[0].text\n",
    "        experience_rating = arr[1].text\n",
    "        interview_rating = arr[2].text\n",
    "\n",
    "        try:\n",
    "            interview_process_block = result.find_elements(by=By.CSS_SELECTOR, value='p')\n",
    "            interview_process = interview_process_block[3].text\n",
    "        except:\n",
    "            print(\"Could not get interview process text\")\n",
    "\n",
    "    \n",
    "        dictionary = {\n",
    "            \"interview_title\": interview_title,\n",
    "            \"date\": date,\n",
    "            \"offer_acceptance\": offer_acceptance,\n",
    "            \"experience_rating\": experience_rating,\n",
    "            \"interview_rating\": interview_rating,\n",
    "            \"interview_process\": interview_process\n",
    "        }\n",
    "        res.append(dictionary)\n",
    "    return res\n",
    "\n",
    "        "
   ]
  },
  {
   "cell_type": "code",
   "execution_count": 115,
   "metadata": {},
   "outputs": [],
   "source": [
    "def scrape(driver, url):\n",
    "    orig_url = url.partition(\"_\")[0]\n",
    "\n",
    "    dictionary_list = []\n",
    "     # visit the page\n",
    "\n",
    "    page_cnt=1 # keep track of page count\n",
    "\n",
    "    while True: # keep going until there are no more pages\n",
    "\n",
    "        driver.get(orig_url +\"_P\" + str(page_cnt) + \".htm\")\n",
    "        time.sleep(8)\n",
    "        print('page',page_cnt) # print current page count\n",
    "\n",
    "         # increment \n",
    "        \n",
    "        #extract and write the links from the current page\n",
    "        results=driver.find_elements(by=By.CSS_SELECTOR,value='div.mt-0.mb-0.my-md-std.p-std.gd-ui-module.css-cup1a5.ec4dwm00')\n",
    "        dictionary_list = dictionary_list + write_row(results)\n",
    "        \n",
    "        #wait until the next button appears   \n",
    "        try:                                                                     \n",
    "            next_button = WebDriverWait(driver, 5).until(EC.element_to_be_clickable((By.CSS_SELECTOR, 'button.nextButton.css-1iiwzeb.e13qs2072')))\n",
    "            page_cnt+=1\n",
    "        except:\n",
    "            print(\"No more pages\")\n",
    "            break\n",
    "\n",
    "            \n",
    "\n",
    "\n",
    "    with open(\"output.json\", \"w\") as outfile:\n",
    "        json.dump(dictionary_list, outfile)"
   ]
  },
  {
   "cell_type": "code",
   "execution_count": 116,
   "metadata": {},
   "outputs": [
    {
     "ename": "TypeError",
     "evalue": "can only concatenate str (not \"int\") to str",
     "output_type": "error",
     "traceback": [
      "\u001b[1;31m---------------------------------------------------------------------------\u001b[0m",
      "\u001b[1;31mTypeError\u001b[0m                                 Traceback (most recent call last)",
      "\u001b[1;32mc:\\Users\\Andrew\\Desktop\\interviewMine.ipynb Cell 4\u001b[0m in \u001b[0;36m<module>\u001b[1;34m\u001b[0m\n\u001b[0;32m      <a href='vscode-notebook-cell:/c%3A/Users/Andrew/Desktop/interviewMine.ipynb#W4sZmlsZQ%3D%3D?line=0'>1</a>\u001b[0m driver \u001b[39m=\u001b[39m webdriver\u001b[39m.\u001b[39mChrome(service\u001b[39m=\u001b[39mService(ChromeDriverManager()\u001b[39m.\u001b[39minstall()))\n\u001b[0;32m      <a href='vscode-notebook-cell:/c%3A/Users/Andrew/Desktop/interviewMine.ipynb#W4sZmlsZQ%3D%3D?line=1'>2</a>\u001b[0m driver\u001b[39m.\u001b[39mmaximize_window()\n\u001b[1;32m----> <a href='vscode-notebook-cell:/c%3A/Users/Andrew/Desktop/interviewMine.ipynb#W4sZmlsZQ%3D%3D?line=3'>4</a>\u001b[0m scrape(driver, \u001b[39m'\u001b[39;49m\u001b[39mhttps://www.glassdoor.com/Interview/Microsoft-Interview-Questions-E1651_P1.htm\u001b[39;49m\u001b[39m'\u001b[39;49m)\n",
      "\u001b[1;32mc:\\Users\\Andrew\\Desktop\\interviewMine.ipynb Cell 4\u001b[0m in \u001b[0;36mscrape\u001b[1;34m(driver, url)\u001b[0m\n\u001b[0;32m      <a href='vscode-notebook-cell:/c%3A/Users/Andrew/Desktop/interviewMine.ipynb#W4sZmlsZQ%3D%3D?line=6'>7</a>\u001b[0m page_cnt\u001b[39m=\u001b[39m\u001b[39m1\u001b[39m \u001b[39m# keep track of page count\u001b[39;00m\n\u001b[0;32m      <a href='vscode-notebook-cell:/c%3A/Users/Andrew/Desktop/interviewMine.ipynb#W4sZmlsZQ%3D%3D?line=8'>9</a>\u001b[0m \u001b[39mwhile\u001b[39;00m \u001b[39mTrue\u001b[39;00m: \u001b[39m# keep going until there are no more pages\u001b[39;00m\n\u001b[1;32m---> <a href='vscode-notebook-cell:/c%3A/Users/Andrew/Desktop/interviewMine.ipynb#W4sZmlsZQ%3D%3D?line=10'>11</a>\u001b[0m     driver\u001b[39m.\u001b[39mget(orig_url \u001b[39m+\u001b[39;49m\u001b[39m\"\u001b[39;49m\u001b[39m_P\u001b[39;49m\u001b[39m\"\u001b[39;49m \u001b[39m+\u001b[39;49m page_cnt \u001b[39m+\u001b[39m \u001b[39m\"\u001b[39m\u001b[39m.htm\u001b[39m\u001b[39m\"\u001b[39m)\n\u001b[0;32m     <a href='vscode-notebook-cell:/c%3A/Users/Andrew/Desktop/interviewMine.ipynb#W4sZmlsZQ%3D%3D?line=11'>12</a>\u001b[0m     time\u001b[39m.\u001b[39msleep(\u001b[39m8\u001b[39m)\n\u001b[0;32m     <a href='vscode-notebook-cell:/c%3A/Users/Andrew/Desktop/interviewMine.ipynb#W4sZmlsZQ%3D%3D?line=12'>13</a>\u001b[0m     \u001b[39mprint\u001b[39m(\u001b[39m'\u001b[39m\u001b[39mpage\u001b[39m\u001b[39m'\u001b[39m,page_cnt) \u001b[39m# print current page count\u001b[39;00m\n",
      "\u001b[1;31mTypeError\u001b[0m: can only concatenate str (not \"int\") to str"
     ]
    }
   ],
   "source": [
    "driver = webdriver.Chrome(service=Service(ChromeDriverManager().install()))\n",
    "driver.maximize_window()\n",
    "   \n",
    "scrape(driver, 'https://www.glassdoor.com/Interview/Microsoft-Interview-Questions-E1651_P1.htm')"
   ]
  }
 ],
 "metadata": {
  "kernelspec": {
   "display_name": "Python 3",
   "language": "python",
   "name": "python3"
  },
  "language_info": {
   "codemirror_mode": {
    "name": "ipython",
    "version": 3
   },
   "file_extension": ".py",
   "mimetype": "text/x-python",
   "name": "python",
   "nbconvert_exporter": "python",
   "pygments_lexer": "ipython3",
   "version": "3.10.2"
  },
  "orig_nbformat": 4
 },
 "nbformat": 4,
 "nbformat_minor": 2
}
