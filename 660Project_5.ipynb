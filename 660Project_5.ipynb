{
 "cells": [
  {
   "cell_type": "code",
   "execution_count": null,
   "id": "4a3a397b",
   "metadata": {},
   "outputs": [],
   "source": [
    "pip install xgboost\n"
   ]
  },
  {
   "cell_type": "code",
   "execution_count": 14,
   "id": "576d7787",
   "metadata": {},
   "outputs": [],
   "source": [
    "import pandas as pd\n",
    "from sklearn.feature_extraction.text import CountVectorizer, TfidfVectorizer\n",
    "from sklearn.model_selection import train_test_split, GridSearchCV\n",
    "from sklearn.metrics import accuracy_score, f1_score\n",
    "from sklearn.linear_model import LogisticRegression\n",
    "from sklearn.naive_bayes import MultinomialNB\n",
    "from sklearn.tree import DecisionTreeClassifier\n",
    "from sklearn.ensemble import RandomForestClassifier, GradientBoostingClassifier\n",
    "import xgboost as xgb\n",
    "\n"
   ]
  },
  {
   "cell_type": "code",
   "execution_count": 15,
   "id": "c9856550",
   "metadata": {},
   "outputs": [],
   "source": [
    "# Load the data\n",
    "data = pd.read_csv(\"data.csv\")\n",
    "\n"
   ]
  },
  {
   "cell_type": "code",
   "execution_count": 16,
   "id": "7bcbc3ca",
   "metadata": {},
   "outputs": [],
   "source": [
    "# Preprocess the data\n",
    "data[\"experience_rating\"] = data[\"experience_rating\"].map({\"Positive Experience\": 1, \"Neutral Experience\": 0})\n",
    "data[\"interview_rating\"] = data[\"interview_rating\"].map({\"Easy Interview\": 1, \"Average Interview\": 2, \"Difficult Interview\": 3})\n",
    "X = data[\"interview_process\"]\n",
    "y = data[\"offer_acceptance\"]\n",
    "\n"
   ]
  },
  {
   "cell_type": "code",
   "execution_count": 17,
   "id": "64d6756b",
   "metadata": {},
   "outputs": [],
   "source": [
    "# Split the data into training and testing sets\n",
    "X_train, X_test, y_train, y_test = train_test_split(X, y, test_size=0.3, random_state=42)\n",
    "\n"
   ]
  },
  {
   "cell_type": "code",
   "execution_count": 18,
   "id": "50e73699",
   "metadata": {},
   "outputs": [],
   "source": [
    "# Define the feature extraction methods\n",
    "count_vect = CountVectorizer(stop_words=\"english\", ngram_range=(1,2))\n",
    "tfidf_vect = TfidfVectorizer(stop_words=\"english\", ngram_range=(1,2))\n",
    "\n"
   ]
  },
  {
   "cell_type": "code",
   "execution_count": 19,
   "id": "630267f0",
   "metadata": {},
   "outputs": [],
   "source": [
    "# Extract features from the training set using both methods\n",
    "X_train_count = count_vect.fit_transform(X_train)\n",
    "X_train_tfidf = tfidf_vect.fit_transform(X_train)\n",
    "\n"
   ]
  },
  {
   "cell_type": "code",
   "execution_count": 20,
   "id": "5bd0e80a",
   "metadata": {},
   "outputs": [],
   "source": [
    "# Train and evaluate several classifiers\n",
    "classifiers = [\n",
    "    {\n",
    "        \"name\": \"Logistic Regression\",\n",
    "        \"model\": LogisticRegression(max_iter=1000),\n",
    "        \"params\": {\"C\": [0.1, 1, 10]}\n",
    "    },\n",
    "    {\n",
    "        \"name\": \"Naive Bayes\",\n",
    "        \"model\": MultinomialNB(),\n",
    "        \"params\": {\"alpha\": [0.1, 0.5, 1]}\n",
    "    },\n",
    "    {\n",
    "        \"name\": \"Decision Tree\",\n",
    "        \"model\": DecisionTreeClassifier(),\n",
    "        \"params\": {\"max_depth\": [5, 10, 20]}\n",
    "    },\n",
    "    {\n",
    "        \"name\": \"Random Forest\",\n",
    "        \"model\": RandomForestClassifier(n_estimators=100),\n",
    "        \"params\": {\"max_depth\": [5, 10, 20]}\n",
    "    },\n",
    "    {\n",
    "        \"name\": \"Gradient Boosting\",\n",
    "        \"model\": GradientBoostingClassifier(),\n",
    "        \"params\": {\"n_estimators\": [50, 100, 200]}\n",
    "    },\n",
    "    {\n",
    "        \"name\": \"XGBoost\",\n",
    "        \"model\": xgb.XGBClassifier(),\n",
    "        \"params\": {\"max_depth\": [5, 10, 20], \"learning_rate\": [0.01, 0.1, 1]}\n",
    "    }\n",
    "]\n",
    "\n"
   ]
  },
  {
   "cell_type": "code",
   "execution_count": null,
   "id": "248c8659",
   "metadata": {},
   "outputs": [
    {
     "name": "stdout",
     "output_type": "stream",
     "text": [
      "Training Logistic Regression...\n",
      "Count Vectorizer Accuracy: 0.6457973019716361\n",
      "Count Vectorizer F1 Score: 0.6129211470010166\n",
      "Tfidf Vectorizer Accuracy: 0.6444136976824628\n",
      "Tfidf Vectorizer F1 Score: 0.6162937730249137\n",
      "Training Naive Bayes...\n",
      "Count Vectorizer Accuracy: 0.6312694569353166\n",
      "Count Vectorizer F1 Score: 0.5816468763829895\n",
      "Tfidf Vectorizer Accuracy: 0.6295399515738499\n",
      "Tfidf Vectorizer F1 Score: 0.575927053164404\n",
      "Training Decision Tree...\n",
      "Count Vectorizer Accuracy: 0.5921826357661709\n",
      "Count Vectorizer F1 Score: 0.570468713328316\n",
      "Tfidf Vectorizer Accuracy: 0.5800760982359046\n",
      "Tfidf Vectorizer F1 Score: 0.5559295572215193\n",
      "Training Random Forest...\n",
      "Count Vectorizer Accuracy: 0.5887236250432376\n",
      "Count Vectorizer F1 Score: 0.43742032384261376\n",
      "Tfidf Vectorizer Accuracy: 0.588031822898651\n",
      "Tfidf Vectorizer F1 Score: 0.4359468523821798\n",
      "Training Gradient Boosting...\n"
     ]
    }
   ],
   "source": [
    "for clf in classifiers:\n",
    "    print(f\"Training {clf['name']}...\")\n",
    "    grid_search = GridSearchCV(clf[\"model\"], clf[\"params\"], cv=5, n_jobs=-1)\n",
    "    grid_search.fit(X_train_count, y_train)\n",
    "    y_pred_count = grid_search.predict(count_vect.transform(X_test))\n",
    "    accuracy_count = accuracy_score(y_test, y_pred_count)\n",
    "    f1_count = f1_score(y_test, y_pred_count, average='weighted')\n",
    "    print(f\"Count Vectorizer Accuracy: {accuracy_count}\")\n",
    "    print(f\"Count Vectorizer F1 Score: {f1_count}\")\n",
    "    grid_search.fit(X_train_tfidf, y_train)\n",
    "    y_pred_tfidf = grid_search.predict(tfidf_vect.transform(X_test))\n",
    "    accuracy_tfidf = accuracy_score(y_test, y_pred_tfidf)\n",
    "    f1_tfidf = f1_score(y_test, y_pred_tfidf, average='weighted')\n",
    "    print(f\"Tfidf Vectorizer Accuracy: {accuracy_tfidf}\")\n",
    "    print(f\"Tfidf Vectorizer F1 Score: {f1_tfidf}\")"
   ]
  },
  {
   "cell_type": "code",
   "execution_count": null,
   "id": "847ad551",
   "metadata": {},
   "outputs": [],
   "source": []
  },
  {
   "cell_type": "code",
   "execution_count": null,
   "id": "7c114fc9",
   "metadata": {},
   "outputs": [],
   "source": []
  },
  {
   "cell_type": "code",
   "execution_count": null,
   "id": "234aa2fe",
   "metadata": {},
   "outputs": [],
   "source": []
  },
  {
   "cell_type": "code",
   "execution_count": null,
   "id": "d4d3a426",
   "metadata": {},
   "outputs": [],
   "source": []
  },
  {
   "cell_type": "code",
   "execution_count": null,
   "id": "4afbe62f",
   "metadata": {},
   "outputs": [],
   "source": []
  },
  {
   "cell_type": "code",
   "execution_count": null,
   "id": "18340896",
   "metadata": {},
   "outputs": [],
   "source": []
  },
  {
   "cell_type": "code",
   "execution_count": null,
   "id": "d51e35fb",
   "metadata": {},
   "outputs": [],
   "source": []
  },
  {
   "cell_type": "code",
   "execution_count": null,
   "id": "1c10b800",
   "metadata": {},
   "outputs": [],
   "source": []
  },
  {
   "cell_type": "code",
   "execution_count": null,
   "id": "134968b0",
   "metadata": {},
   "outputs": [],
   "source": []
  },
  {
   "cell_type": "code",
   "execution_count": null,
   "id": "ecb3e5d4",
   "metadata": {},
   "outputs": [],
   "source": []
  },
  {
   "cell_type": "code",
   "execution_count": null,
   "id": "662c9285",
   "metadata": {},
   "outputs": [],
   "source": []
  },
  {
   "cell_type": "code",
   "execution_count": null,
   "id": "6fd89fec",
   "metadata": {},
   "outputs": [],
   "source": []
  },
  {
   "cell_type": "code",
   "execution_count": null,
   "id": "6c89cb83",
   "metadata": {},
   "outputs": [],
   "source": []
  }
 ],
 "metadata": {
  "kernelspec": {
   "display_name": "Python 3 (ipykernel)",
   "language": "python",
   "name": "python3"
  },
  "language_info": {
   "codemirror_mode": {
    "name": "ipython",
    "version": 3
   },
   "file_extension": ".py",
   "mimetype": "text/x-python",
   "name": "python",
   "nbconvert_exporter": "python",
   "pygments_lexer": "ipython3",
   "version": "3.9.7"
  }
 },
 "nbformat": 4,
 "nbformat_minor": 5
}
